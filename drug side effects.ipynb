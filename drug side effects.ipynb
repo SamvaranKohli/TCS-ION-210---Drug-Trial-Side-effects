{
 "cells": [
  {
   "cell_type": "code",
   "execution_count": 2,
   "id": "c9764429-3d47-4420-bc4c-2a87d2e00299",
   "metadata": {},
   "outputs": [
    {
     "name": "stdout",
     "output_type": "stream",
     "text": [
      "Collecting faker\n",
      "  Downloading Faker-25.2.0-py3-none-any.whl.metadata (15 kB)\n",
      "Requirement already satisfied: python-dateutil>=2.4 in /opt/anaconda3/lib/python3.11/site-packages (from faker) (2.8.2)\n",
      "Requirement already satisfied: six>=1.5 in /opt/anaconda3/lib/python3.11/site-packages (from python-dateutil>=2.4->faker) (1.16.0)\n",
      "Downloading Faker-25.2.0-py3-none-any.whl (1.8 MB)\n",
      "\u001b[2K   \u001b[90m━━━━━━━━━━━━━━━━━━━━━━━━━━━━━━━━━━━━━━━━\u001b[0m \u001b[32m1.8/1.8 MB\u001b[0m \u001b[31m23.0 MB/s\u001b[0m eta \u001b[36m0:00:00\u001b[0m00:01\u001b[0m00:01\u001b[0m\n",
      "\u001b[?25hInstalling collected packages: faker\n",
      "Successfully installed faker-25.2.0\n",
      "Note: you may need to restart the kernel to use updated packages.\n"
     ]
    }
   ],
   "source": [
    "pip install faker"
   ]
  },
  {
   "cell_type": "markdown",
   "id": "8666855b-ddf1-44e9-9297-38fcdccd8743",
   "metadata": {},
   "source": [
    "## Importing necessary libraries"
   ]
  },
  {
   "cell_type": "code",
   "execution_count": 1,
   "id": "a401a659-7565-4e32-842e-50e27d5c239d",
   "metadata": {},
   "outputs": [],
   "source": [
    "from faker import Faker\n",
    "import numpy as np\n",
    "import pandas as pd\n",
    "from random import choice, sample\n",
    "import matplotlib.pyplot as plt\n",
    "import seaborn as sns"
   ]
  },
  {
   "cell_type": "markdown",
   "id": "9759e6ac-38b4-41db-bffe-78f93f85a6c4",
   "metadata": {},
   "source": [
    "## Data Generation\n",
    "1. Generating Random Names: Using the Faker library, we generate 350,000 random names.\n",
    "2. Generating Random Races: We assign a race to each individual based on specified probabilities."
   ]
  },
  {
   "cell_type": "code",
   "execution_count": 2,
   "id": "265af260-840b-4462-b95b-b4914c218f53",
   "metadata": {},
   "outputs": [],
   "source": [
    "# Initialize Faker instance\n",
    "df = Faker()\n",
    "\n",
    "# Function to generate random names\n",
    "def generateNames():\n",
    "   names = []\n",
    "   for i in range(0, 350000):\n",
    "        names.append(df.name())\n",
    "   return names"
   ]
  },
  {
   "cell_type": "code",
   "execution_count": 3,
   "id": "1e576b04-8a5b-4049-8a5e-a545057f3aa8",
   "metadata": {},
   "outputs": [],
   "source": [
    "# Generate 350,000 random names\n",
    "names = generateNames()"
   ]
  },
  {
   "cell_type": "code",
   "execution_count": 4,
   "id": "d81451fe-bc39-4f04-9504-ebd241ebbb75",
   "metadata": {},
   "outputs": [],
   "source": [
    "# Create a DataFrame with generated names\n",
    "df_name = pd.DataFrame(list(zip(names)),columns = ['Name'])"
   ]
  },
  {
   "cell_type": "code",
   "execution_count": 5,
   "id": "2d68a723-cd17-45f1-a0db-034a8999b4a2",
   "metadata": {},
   "outputs": [
    {
     "data": {
      "text/html": [
       "<div>\n",
       "<style scoped>\n",
       "    .dataframe tbody tr th:only-of-type {\n",
       "        vertical-align: middle;\n",
       "    }\n",
       "\n",
       "    .dataframe tbody tr th {\n",
       "        vertical-align: top;\n",
       "    }\n",
       "\n",
       "    .dataframe thead th {\n",
       "        text-align: right;\n",
       "    }\n",
       "</style>\n",
       "<table border=\"1\" class=\"dataframe\">\n",
       "  <thead>\n",
       "    <tr style=\"text-align: right;\">\n",
       "      <th></th>\n",
       "      <th>Name</th>\n",
       "    </tr>\n",
       "  </thead>\n",
       "  <tbody>\n",
       "    <tr>\n",
       "      <th>0</th>\n",
       "      <td>Samantha Garner</td>\n",
       "    </tr>\n",
       "    <tr>\n",
       "      <th>1</th>\n",
       "      <td>Derrick Gomez</td>\n",
       "    </tr>\n",
       "    <tr>\n",
       "      <th>2</th>\n",
       "      <td>Veronica Baker</td>\n",
       "    </tr>\n",
       "    <tr>\n",
       "      <th>3</th>\n",
       "      <td>Mrs. Amber Powell</td>\n",
       "    </tr>\n",
       "    <tr>\n",
       "      <th>4</th>\n",
       "      <td>Diane Holland</td>\n",
       "    </tr>\n",
       "  </tbody>\n",
       "</table>\n",
       "</div>"
      ],
      "text/plain": [
       "                Name\n",
       "0    Samantha Garner\n",
       "1      Derrick Gomez\n",
       "2     Veronica Baker\n",
       "3  Mrs. Amber Powell\n",
       "4      Diane Holland"
      ]
     },
     "execution_count": 5,
     "metadata": {},
     "output_type": "execute_result"
    }
   ],
   "source": [
    "df_name.head()"
   ]
  },
  {
   "cell_type": "code",
   "execution_count": 6,
   "id": "51327f22-d37c-4b46-873e-e444dbcc1dd8",
   "metadata": {},
   "outputs": [],
   "source": [
    "# Function to generate random races based on given probabilities\n",
    "def generateRace(*iterables):\n",
    "    return [\n",
    "        np.random.choice(population, p=np.array(weights) / sum(weights))\n",
    "        for population, weights in iterables\n",
    "    ]\n",
    "\n",
    "# Define races and their probabilities\n",
    "races = (['White', 'Hispanic', 'Black', 'Asian'], [.32, .28, .22, .18])\n",
    "\n",
    "# Generate race data for 350,000 individuals\n",
    "race_data = [generateRace(races) for _ in range(350000)]"
   ]
  },
  {
   "cell_type": "code",
   "execution_count": 7,
   "id": "5d723f8d-f81b-4527-bd0d-638154e2725a",
   "metadata": {},
   "outputs": [],
   "source": [
    "df_race=pd.DataFrame(race_data, columns = ['Race'])"
   ]
  },
  {
   "cell_type": "code",
   "execution_count": 8,
   "id": "fb58f520-ffac-424c-8aa9-acc5a51cb17d",
   "metadata": {},
   "outputs": [
    {
     "data": {
      "text/html": [
       "<div>\n",
       "<style scoped>\n",
       "    .dataframe tbody tr th:only-of-type {\n",
       "        vertical-align: middle;\n",
       "    }\n",
       "\n",
       "    .dataframe tbody tr th {\n",
       "        vertical-align: top;\n",
       "    }\n",
       "\n",
       "    .dataframe thead th {\n",
       "        text-align: right;\n",
       "    }\n",
       "</style>\n",
       "<table border=\"1\" class=\"dataframe\">\n",
       "  <thead>\n",
       "    <tr style=\"text-align: right;\">\n",
       "      <th></th>\n",
       "      <th>Race</th>\n",
       "    </tr>\n",
       "  </thead>\n",
       "  <tbody>\n",
       "    <tr>\n",
       "      <th>0</th>\n",
       "      <td>Hispanic</td>\n",
       "    </tr>\n",
       "    <tr>\n",
       "      <th>1</th>\n",
       "      <td>Black</td>\n",
       "    </tr>\n",
       "    <tr>\n",
       "      <th>2</th>\n",
       "      <td>Asian</td>\n",
       "    </tr>\n",
       "    <tr>\n",
       "      <th>3</th>\n",
       "      <td>Hispanic</td>\n",
       "    </tr>\n",
       "    <tr>\n",
       "      <th>4</th>\n",
       "      <td>Black</td>\n",
       "    </tr>\n",
       "  </tbody>\n",
       "</table>\n",
       "</div>"
      ],
      "text/plain": [
       "       Race\n",
       "0  Hispanic\n",
       "1     Black\n",
       "2     Asian\n",
       "3  Hispanic\n",
       "4     Black"
      ]
     },
     "execution_count": 8,
     "metadata": {},
     "output_type": "execute_result"
    }
   ],
   "source": [
    "df_race.head()"
   ]
  },
  {
   "cell_type": "markdown",
   "id": "3f6fa0da-d54d-4fda-8274-cf4e7b3c96dd",
   "metadata": {},
   "source": [
    "## Data Preparation\n",
    "3. Combining Data: We combine the generated names and races with drug review data from a CSV file.\n",
    "4. Saving Data: The combined data is saved into a new CSV file for further processing."
   ]
  },
  {
   "cell_type": "code",
   "execution_count": 9,
   "id": "cbad6f8d-4090-4625-aa77-e8e02c357181",
   "metadata": {},
   "outputs": [],
   "source": [
    "# Combine name and race data into a single DataFrame\n",
    "df_nr = pd.concat([df_name, df_race], axis=1).reindex(df_race.index)"
   ]
  },
  {
   "cell_type": "code",
   "execution_count": 10,
   "id": "fcdc87a6-ad6f-468d-83bc-f8c2646e2c2a",
   "metadata": {},
   "outputs": [],
   "source": [
    "# Read drug review data\n",
    "df_drugs = pd.read_csv('webmd.csv')"
   ]
  },
  {
   "cell_type": "code",
   "execution_count": 11,
   "id": "9e6b6d0f-3ad8-4c2a-ad9a-0cd1634164d4",
   "metadata": {},
   "outputs": [],
   "source": [
    "# Combine name-race data with drug review data\n",
    "data_drugs = pd.concat([df_nr, df_drugs], axis=1).reindex(df_drugs.index)"
   ]
  },
  {
   "cell_type": "code",
   "execution_count": 12,
   "id": "92f97117-b0b3-4b34-ab96-ca6ad4040fa7",
   "metadata": {},
   "outputs": [
    {
     "data": {
      "text/html": [
       "<div>\n",
       "<style scoped>\n",
       "    .dataframe tbody tr th:only-of-type {\n",
       "        vertical-align: middle;\n",
       "    }\n",
       "\n",
       "    .dataframe tbody tr th {\n",
       "        vertical-align: top;\n",
       "    }\n",
       "\n",
       "    .dataframe thead th {\n",
       "        text-align: right;\n",
       "    }\n",
       "</style>\n",
       "<table border=\"1\" class=\"dataframe\">\n",
       "  <thead>\n",
       "    <tr style=\"text-align: right;\">\n",
       "      <th></th>\n",
       "      <th>Name</th>\n",
       "      <th>Race</th>\n",
       "      <th>Age</th>\n",
       "      <th>Condition</th>\n",
       "      <th>Date</th>\n",
       "      <th>Drug</th>\n",
       "      <th>DrugId</th>\n",
       "      <th>EaseofUse</th>\n",
       "      <th>Effectiveness</th>\n",
       "      <th>Reviews</th>\n",
       "      <th>Satisfaction</th>\n",
       "      <th>Sex</th>\n",
       "      <th>Sides</th>\n",
       "      <th>UsefulCount</th>\n",
       "    </tr>\n",
       "  </thead>\n",
       "  <tbody>\n",
       "    <tr>\n",
       "      <th>0</th>\n",
       "      <td>Samantha Garner</td>\n",
       "      <td>Hispanic</td>\n",
       "      <td>75 or over</td>\n",
       "      <td>Stuffy Nose</td>\n",
       "      <td>9/21/2014</td>\n",
       "      <td>25dph-7.5peh</td>\n",
       "      <td>146724</td>\n",
       "      <td>5</td>\n",
       "      <td>5</td>\n",
       "      <td>I'm a retired physician and of all the meds I ...</td>\n",
       "      <td>5</td>\n",
       "      <td>Male</td>\n",
       "      <td>Drowsiness,  dizziness ,  dry mouth /nose/thro...</td>\n",
       "      <td>0</td>\n",
       "    </tr>\n",
       "    <tr>\n",
       "      <th>1</th>\n",
       "      <td>Derrick Gomez</td>\n",
       "      <td>Black</td>\n",
       "      <td>25-34</td>\n",
       "      <td>Cold Symptoms</td>\n",
       "      <td>1/13/2011</td>\n",
       "      <td>25dph-7.5peh</td>\n",
       "      <td>146724</td>\n",
       "      <td>5</td>\n",
       "      <td>5</td>\n",
       "      <td>cleared me right up even with my throat hurtin...</td>\n",
       "      <td>5</td>\n",
       "      <td>Female</td>\n",
       "      <td>Drowsiness,  dizziness ,  dry mouth /nose/thro...</td>\n",
       "      <td>1</td>\n",
       "    </tr>\n",
       "    <tr>\n",
       "      <th>2</th>\n",
       "      <td>Veronica Baker</td>\n",
       "      <td>Asian</td>\n",
       "      <td>65-74</td>\n",
       "      <td>Other</td>\n",
       "      <td>7/16/2012</td>\n",
       "      <td>warfarin (bulk) 100 % powder</td>\n",
       "      <td>144731</td>\n",
       "      <td>2</td>\n",
       "      <td>3</td>\n",
       "      <td>why did my PTINR go from a normal of 2.5 to ov...</td>\n",
       "      <td>3</td>\n",
       "      <td>Female</td>\n",
       "      <td></td>\n",
       "      <td>0</td>\n",
       "    </tr>\n",
       "    <tr>\n",
       "      <th>3</th>\n",
       "      <td>Mrs. Amber Powell</td>\n",
       "      <td>Hispanic</td>\n",
       "      <td>75 or over</td>\n",
       "      <td>Other</td>\n",
       "      <td>9/23/2010</td>\n",
       "      <td>warfarin (bulk) 100 % powder</td>\n",
       "      <td>144731</td>\n",
       "      <td>2</td>\n",
       "      <td>2</td>\n",
       "      <td>FALLING AND DON'T REALISE IT</td>\n",
       "      <td>1</td>\n",
       "      <td>Female</td>\n",
       "      <td></td>\n",
       "      <td>0</td>\n",
       "    </tr>\n",
       "    <tr>\n",
       "      <th>4</th>\n",
       "      <td>Diane Holland</td>\n",
       "      <td>Black</td>\n",
       "      <td>35-44</td>\n",
       "      <td>Other</td>\n",
       "      <td>1/6/2009</td>\n",
       "      <td>warfarin (bulk) 100 % powder</td>\n",
       "      <td>144731</td>\n",
       "      <td>1</td>\n",
       "      <td>1</td>\n",
       "      <td>My grandfather was prescribed this medication ...</td>\n",
       "      <td>1</td>\n",
       "      <td>Male</td>\n",
       "      <td></td>\n",
       "      <td>1</td>\n",
       "    </tr>\n",
       "  </tbody>\n",
       "</table>\n",
       "</div>"
      ],
      "text/plain": [
       "                Name      Race         Age      Condition       Date  \\\n",
       "0    Samantha Garner  Hispanic  75 or over    Stuffy Nose  9/21/2014   \n",
       "1      Derrick Gomez     Black       25-34  Cold Symptoms  1/13/2011   \n",
       "2     Veronica Baker     Asian       65-74          Other  7/16/2012   \n",
       "3  Mrs. Amber Powell  Hispanic  75 or over          Other  9/23/2010   \n",
       "4      Diane Holland     Black       35-44          Other   1/6/2009   \n",
       "\n",
       "                           Drug  DrugId  EaseofUse  Effectiveness  \\\n",
       "0                  25dph-7.5peh  146724          5              5   \n",
       "1                  25dph-7.5peh  146724          5              5   \n",
       "2  warfarin (bulk) 100 % powder  144731          2              3   \n",
       "3  warfarin (bulk) 100 % powder  144731          2              2   \n",
       "4  warfarin (bulk) 100 % powder  144731          1              1   \n",
       "\n",
       "                                             Reviews  Satisfaction     Sex  \\\n",
       "0  I'm a retired physician and of all the meds I ...             5    Male   \n",
       "1  cleared me right up even with my throat hurtin...             5  Female   \n",
       "2  why did my PTINR go from a normal of 2.5 to ov...             3  Female   \n",
       "3                       FALLING AND DON'T REALISE IT             1  Female   \n",
       "4  My grandfather was prescribed this medication ...             1    Male   \n",
       "\n",
       "                                               Sides  UsefulCount  \n",
       "0  Drowsiness,  dizziness ,  dry mouth /nose/thro...            0  \n",
       "1  Drowsiness,  dizziness ,  dry mouth /nose/thro...            1  \n",
       "2                                                               0  \n",
       "3                                                               0  \n",
       "4                                                               1  "
      ]
     },
     "execution_count": 12,
     "metadata": {},
     "output_type": "execute_result"
    }
   ],
   "source": [
    "data_drugs.head()"
   ]
  },
  {
   "cell_type": "code",
   "execution_count": 13,
   "id": "0e4249f3-8816-490e-8355-d11e8fadae8f",
   "metadata": {},
   "outputs": [],
   "source": [
    "# Save combined data to a CSV file\n",
    "data_drugs = data_drugs.to_csv('dataset_drugs.csv', index=False)"
   ]
  },
  {
   "cell_type": "code",
   "execution_count": 2,
   "id": "8593ba36-6e61-42d4-955f-b1195ecf5f07",
   "metadata": {},
   "outputs": [],
   "source": [
    "# Read the saved CSV file\n",
    "data = pd.read_csv('dataset_drugs.csv')"
   ]
  },
  {
   "cell_type": "code",
   "execution_count": 3,
   "id": "2eb21859-98b7-49ff-8dc1-bf0f06925005",
   "metadata": {},
   "outputs": [
    {
     "data": {
      "text/html": [
       "<div>\n",
       "<style scoped>\n",
       "    .dataframe tbody tr th:only-of-type {\n",
       "        vertical-align: middle;\n",
       "    }\n",
       "\n",
       "    .dataframe tbody tr th {\n",
       "        vertical-align: top;\n",
       "    }\n",
       "\n",
       "    .dataframe thead th {\n",
       "        text-align: right;\n",
       "    }\n",
       "</style>\n",
       "<table border=\"1\" class=\"dataframe\">\n",
       "  <thead>\n",
       "    <tr style=\"text-align: right;\">\n",
       "      <th></th>\n",
       "      <th>Name</th>\n",
       "      <th>Race</th>\n",
       "      <th>Age</th>\n",
       "      <th>Condition</th>\n",
       "      <th>Date</th>\n",
       "      <th>Drug</th>\n",
       "      <th>DrugId</th>\n",
       "      <th>EaseofUse</th>\n",
       "      <th>Effectiveness</th>\n",
       "      <th>Reviews</th>\n",
       "      <th>Satisfaction</th>\n",
       "      <th>Sex</th>\n",
       "      <th>Sides</th>\n",
       "      <th>UsefulCount</th>\n",
       "    </tr>\n",
       "  </thead>\n",
       "  <tbody>\n",
       "    <tr>\n",
       "      <th>0</th>\n",
       "      <td>Samantha Garner</td>\n",
       "      <td>Hispanic</td>\n",
       "      <td>75 or over</td>\n",
       "      <td>Stuffy Nose</td>\n",
       "      <td>9/21/2014</td>\n",
       "      <td>25dph-7.5peh</td>\n",
       "      <td>146724</td>\n",
       "      <td>5</td>\n",
       "      <td>5</td>\n",
       "      <td>I'm a retired physician and of all the meds I ...</td>\n",
       "      <td>5</td>\n",
       "      <td>Male</td>\n",
       "      <td>Drowsiness,  dizziness ,  dry mouth /nose/thro...</td>\n",
       "      <td>0</td>\n",
       "    </tr>\n",
       "    <tr>\n",
       "      <th>1</th>\n",
       "      <td>Derrick Gomez</td>\n",
       "      <td>Black</td>\n",
       "      <td>25-34</td>\n",
       "      <td>Cold Symptoms</td>\n",
       "      <td>1/13/2011</td>\n",
       "      <td>25dph-7.5peh</td>\n",
       "      <td>146724</td>\n",
       "      <td>5</td>\n",
       "      <td>5</td>\n",
       "      <td>cleared me right up even with my throat hurtin...</td>\n",
       "      <td>5</td>\n",
       "      <td>Female</td>\n",
       "      <td>Drowsiness,  dizziness ,  dry mouth /nose/thro...</td>\n",
       "      <td>1</td>\n",
       "    </tr>\n",
       "    <tr>\n",
       "      <th>2</th>\n",
       "      <td>Veronica Baker</td>\n",
       "      <td>Asian</td>\n",
       "      <td>65-74</td>\n",
       "      <td>Other</td>\n",
       "      <td>7/16/2012</td>\n",
       "      <td>warfarin (bulk) 100 % powder</td>\n",
       "      <td>144731</td>\n",
       "      <td>2</td>\n",
       "      <td>3</td>\n",
       "      <td>why did my PTINR go from a normal of 2.5 to ov...</td>\n",
       "      <td>3</td>\n",
       "      <td>Female</td>\n",
       "      <td></td>\n",
       "      <td>0</td>\n",
       "    </tr>\n",
       "    <tr>\n",
       "      <th>3</th>\n",
       "      <td>Mrs. Amber Powell</td>\n",
       "      <td>Hispanic</td>\n",
       "      <td>75 or over</td>\n",
       "      <td>Other</td>\n",
       "      <td>9/23/2010</td>\n",
       "      <td>warfarin (bulk) 100 % powder</td>\n",
       "      <td>144731</td>\n",
       "      <td>2</td>\n",
       "      <td>2</td>\n",
       "      <td>FALLING AND DON'T REALISE IT</td>\n",
       "      <td>1</td>\n",
       "      <td>Female</td>\n",
       "      <td></td>\n",
       "      <td>0</td>\n",
       "    </tr>\n",
       "    <tr>\n",
       "      <th>4</th>\n",
       "      <td>Diane Holland</td>\n",
       "      <td>Black</td>\n",
       "      <td>35-44</td>\n",
       "      <td>Other</td>\n",
       "      <td>1/6/2009</td>\n",
       "      <td>warfarin (bulk) 100 % powder</td>\n",
       "      <td>144731</td>\n",
       "      <td>1</td>\n",
       "      <td>1</td>\n",
       "      <td>My grandfather was prescribed this medication ...</td>\n",
       "      <td>1</td>\n",
       "      <td>Male</td>\n",
       "      <td></td>\n",
       "      <td>1</td>\n",
       "    </tr>\n",
       "  </tbody>\n",
       "</table>\n",
       "</div>"
      ],
      "text/plain": [
       "                Name      Race         Age      Condition       Date  \\\n",
       "0    Samantha Garner  Hispanic  75 or over    Stuffy Nose  9/21/2014   \n",
       "1      Derrick Gomez     Black       25-34  Cold Symptoms  1/13/2011   \n",
       "2     Veronica Baker     Asian       65-74          Other  7/16/2012   \n",
       "3  Mrs. Amber Powell  Hispanic  75 or over          Other  9/23/2010   \n",
       "4      Diane Holland     Black       35-44          Other   1/6/2009   \n",
       "\n",
       "                           Drug  DrugId  EaseofUse  Effectiveness  \\\n",
       "0                  25dph-7.5peh  146724          5              5   \n",
       "1                  25dph-7.5peh  146724          5              5   \n",
       "2  warfarin (bulk) 100 % powder  144731          2              3   \n",
       "3  warfarin (bulk) 100 % powder  144731          2              2   \n",
       "4  warfarin (bulk) 100 % powder  144731          1              1   \n",
       "\n",
       "                                             Reviews  Satisfaction     Sex  \\\n",
       "0  I'm a retired physician and of all the meds I ...             5    Male   \n",
       "1  cleared me right up even with my throat hurtin...             5  Female   \n",
       "2  why did my PTINR go from a normal of 2.5 to ov...             3  Female   \n",
       "3                       FALLING AND DON'T REALISE IT             1  Female   \n",
       "4  My grandfather was prescribed this medication ...             1    Male   \n",
       "\n",
       "                                               Sides  UsefulCount  \n",
       "0  Drowsiness,  dizziness ,  dry mouth /nose/thro...            0  \n",
       "1  Drowsiness,  dizziness ,  dry mouth /nose/thro...            1  \n",
       "2                                                               0  \n",
       "3                                                               0  \n",
       "4                                                               1  "
      ]
     },
     "execution_count": 3,
     "metadata": {},
     "output_type": "execute_result"
    }
   ],
   "source": [
    "data.head()"
   ]
  },
  {
   "cell_type": "markdown",
   "id": "a10e4322-347d-4908-a69a-7a73b8ecd1b2",
   "metadata": {},
   "source": [
    "## Data Cleaning\n",
    "5. Handling Missing Values: We identify and handle missing values by removing rows with null values.\n",
    "6. Text Cleaning: We clean the Sides column, which contains side effects descriptions, by removing non-alphabetic characters and stopwords."
   ]
  },
  {
   "cell_type": "code",
   "execution_count": 4,
   "id": "67a97f1f-7af9-43d4-a12d-9e406060a66c",
   "metadata": {},
   "outputs": [
    {
     "data": {
      "text/plain": [
       "Name              True\n",
       "Race              True\n",
       "Age              False\n",
       "Condition        False\n",
       "Date             False\n",
       "Drug             False\n",
       "DrugId           False\n",
       "EaseofUse        False\n",
       "Effectiveness    False\n",
       "Reviews           True\n",
       "Satisfaction     False\n",
       "Sex              False\n",
       "Sides            False\n",
       "UsefulCount      False\n",
       "dtype: bool"
      ]
     },
     "execution_count": 4,
     "metadata": {},
     "output_type": "execute_result"
    }
   ],
   "source": [
    "# Check for any null values\n",
    "data.isnull().any()"
   ]
  },
  {
   "cell_type": "code",
   "execution_count": 5,
   "id": "0edc1671-7afc-4b71-84ce-eb6c869c9ad6",
   "metadata": {},
   "outputs": [
    {
     "data": {
      "text/plain": [
       "Name             12805\n",
       "Race             12805\n",
       "Age                  0\n",
       "Condition            0\n",
       "Date                 0\n",
       "Drug                 0\n",
       "DrugId               0\n",
       "EaseofUse            0\n",
       "Effectiveness        0\n",
       "Reviews             43\n",
       "Satisfaction         0\n",
       "Sex                  0\n",
       "Sides                0\n",
       "UsefulCount          0\n",
       "dtype: int64"
      ]
     },
     "execution_count": 5,
     "metadata": {},
     "output_type": "execute_result"
    }
   ],
   "source": [
    "data.isna().sum()"
   ]
  },
  {
   "cell_type": "code",
   "execution_count": 6,
   "id": "6c7ee470-e9a5-492b-b04c-48f45aa3cb8e",
   "metadata": {},
   "outputs": [
    {
     "data": {
      "text/plain": [
       "Sides\n",
       "                                                                                                                                                       17460\n",
       "Nausea ,  vomiting ,  constipation ,  lightheadedness ,  dizziness , or drowsiness may occur.                                                          15563\n",
       "Nausea ,  vomiting ,  headache ,  bloating ,  breast  tenderness, swelling of the  ankles /feet (fluid retention), or  weight  change may occur.       12116\n",
       "Dizziness ,  lightheadedness , tiredness, or  headache  may occur as your body adjusts to the  medication . Dry  cough  may also occur.                 9161\n",
       "Drowsiness,  dizziness , loss of coordination, tiredness, blurred/ double vision , unusual  eye  movements, or shaking (tremor) may occur.              7790\n",
       "                                                                                                                                                       ...  \n",
       "Nausea ,  vomiting ,  stomach / abdominal pain , gas,  diarrhea ,  weight loss ,  headache ,  muscle cramps ,  dizziness , or  weakness  may occur.        1\n",
       "Headache ,  nausea , chills, or fever may occur.                                                                                                           1\n",
       "Nausea ,  vomiting ,  diarrhea , abdominal/ stomach pain ,  cough ,  dizziness ,  headache , flushing, or loss of appetite may occur.                      1\n",
       "Mild  skin  burning, redness, and peeling of the treated area may occur as expected.                                                                       1\n",
       "Diarrhea ,  nausea , or  heartburn  may occur.                                                                                                             1\n",
       "Name: count, Length: 1651, dtype: int64"
      ]
     },
     "execution_count": 6,
     "metadata": {},
     "output_type": "execute_result"
    }
   ],
   "source": [
    "data['Sides'].value_counts()"
   ]
  },
  {
   "cell_type": "code",
   "execution_count": 7,
   "id": "753522b9-5793-47f4-850d-b08c6f5d5700",
   "metadata": {},
   "outputs": [
    {
     "data": {
      "text/plain": [
       "Drug\n",
       "cymbalta                     4648\n",
       "lisinopril solution          4269\n",
       "lisinopril                   4268\n",
       "lexapro                      4134\n",
       "hydrocodone-acetaminophen    3944\n",
       "effexor xr                   3486\n",
       "lyrica                       3069\n",
       "tramadol hcl er              2932\n",
       "tramadol hcl                 2932\n",
       "zoloft                       2662\n",
       "Name: count, dtype: int64"
      ]
     },
     "execution_count": 7,
     "metadata": {},
     "output_type": "execute_result"
    }
   ],
   "source": [
    "data['Drug'].value_counts().head(10)"
   ]
  },
  {
   "cell_type": "code",
   "execution_count": 8,
   "id": "781a193c-dafe-4c4a-98c6-37f8632e18a0",
   "metadata": {},
   "outputs": [
    {
     "data": {
      "text/html": [
       "<div>\n",
       "<style scoped>\n",
       "    .dataframe tbody tr th:only-of-type {\n",
       "        vertical-align: middle;\n",
       "    }\n",
       "\n",
       "    .dataframe tbody tr th {\n",
       "        vertical-align: top;\n",
       "    }\n",
       "\n",
       "    .dataframe thead th {\n",
       "        text-align: right;\n",
       "    }\n",
       "</style>\n",
       "<table border=\"1\" class=\"dataframe\">\n",
       "  <thead>\n",
       "    <tr style=\"text-align: right;\">\n",
       "      <th></th>\n",
       "      <th>Name</th>\n",
       "      <th>Race</th>\n",
       "      <th>Age</th>\n",
       "      <th>Condition</th>\n",
       "      <th>Date</th>\n",
       "      <th>Drug</th>\n",
       "      <th>DrugId</th>\n",
       "      <th>EaseofUse</th>\n",
       "      <th>Effectiveness</th>\n",
       "      <th>Reviews</th>\n",
       "      <th>Satisfaction</th>\n",
       "      <th>Sex</th>\n",
       "      <th>Sides</th>\n",
       "      <th>UsefulCount</th>\n",
       "    </tr>\n",
       "  </thead>\n",
       "  <tbody>\n",
       "    <tr>\n",
       "      <th>191567</th>\n",
       "      <td>Devin Jenkins</td>\n",
       "      <td>White</td>\n",
       "      <td>45-54</td>\n",
       "      <td>Migraine Prevention</td>\n",
       "      <td>9/22/2019</td>\n",
       "      <td>topamax</td>\n",
       "      <td>14494</td>\n",
       "      <td>4</td>\n",
       "      <td>4</td>\n",
       "      <td>I was on this drug for 5 years, 100mg for the ...</td>\n",
       "      <td>1</td>\n",
       "      <td></td>\n",
       "      <td>Tiredness, drowsiness,  dizziness , loss of co...</td>\n",
       "      <td>5</td>\n",
       "    </tr>\n",
       "    <tr>\n",
       "      <th>191574</th>\n",
       "      <td>Sylvia Miller</td>\n",
       "      <td>Hispanic</td>\n",
       "      <td>35-44</td>\n",
       "      <td>Simple Partial Seizures</td>\n",
       "      <td>9/2/2019</td>\n",
       "      <td>topamax</td>\n",
       "      <td>14494</td>\n",
       "      <td>4</td>\n",
       "      <td>4</td>\n",
       "      <td>I have partial seizures. It didn't help for a ...</td>\n",
       "      <td>4</td>\n",
       "      <td></td>\n",
       "      <td>Tiredness, drowsiness,  dizziness , loss of co...</td>\n",
       "      <td>0</td>\n",
       "    </tr>\n",
       "    <tr>\n",
       "      <th>191581</th>\n",
       "      <td>Leslie Castillo</td>\n",
       "      <td>White</td>\n",
       "      <td>13-18</td>\n",
       "      <td>Migraine Prevention</td>\n",
       "      <td>8/9/2019</td>\n",
       "      <td>topamax</td>\n",
       "      <td>14494</td>\n",
       "      <td>1</td>\n",
       "      <td>1</td>\n",
       "      <td>I have been having migraines and headaches eve...</td>\n",
       "      <td>1</td>\n",
       "      <td></td>\n",
       "      <td>Tiredness, drowsiness,  dizziness , loss of co...</td>\n",
       "      <td>6</td>\n",
       "    </tr>\n",
       "    <tr>\n",
       "      <th>191588</th>\n",
       "      <td>David Anderson</td>\n",
       "      <td>Black</td>\n",
       "      <td>65-74</td>\n",
       "      <td>Essential Tremor</td>\n",
       "      <td>7/21/2019</td>\n",
       "      <td>topamax</td>\n",
       "      <td>14494</td>\n",
       "      <td>4</td>\n",
       "      <td>4</td>\n",
       "      <td>This is the only medication I have taken for t...</td>\n",
       "      <td>3</td>\n",
       "      <td></td>\n",
       "      <td>Tiredness, drowsiness,  dizziness , loss of co...</td>\n",
       "      <td>0</td>\n",
       "    </tr>\n",
       "    <tr>\n",
       "      <th>191595</th>\n",
       "      <td>Jacob Boyd</td>\n",
       "      <td>Black</td>\n",
       "      <td>45-54</td>\n",
       "      <td>Migraine Prevention</td>\n",
       "      <td>4/30/2019</td>\n",
       "      <td>topamax</td>\n",
       "      <td>14494</td>\n",
       "      <td>5</td>\n",
       "      <td>5</td>\n",
       "      <td>I suffered from debilitating Cluster Headaches...</td>\n",
       "      <td>5</td>\n",
       "      <td></td>\n",
       "      <td>Tiredness, drowsiness,  dizziness , loss of co...</td>\n",
       "      <td>2</td>\n",
       "    </tr>\n",
       "  </tbody>\n",
       "</table>\n",
       "</div>"
      ],
      "text/plain": [
       "                   Name      Race    Age                Condition       Date  \\\n",
       "191567    Devin Jenkins     White  45-54      Migraine Prevention  9/22/2019   \n",
       "191574    Sylvia Miller  Hispanic  35-44  Simple Partial Seizures   9/2/2019   \n",
       "191581  Leslie Castillo     White  13-18      Migraine Prevention   8/9/2019   \n",
       "191588   David Anderson     Black  65-74         Essential Tremor  7/21/2019   \n",
       "191595       Jacob Boyd     Black  45-54      Migraine Prevention  4/30/2019   \n",
       "\n",
       "           Drug  DrugId  EaseofUse  Effectiveness  \\\n",
       "191567  topamax   14494          4              4   \n",
       "191574  topamax   14494          4              4   \n",
       "191581  topamax   14494          1              1   \n",
       "191588  topamax   14494          4              4   \n",
       "191595  topamax   14494          5              5   \n",
       "\n",
       "                                                  Reviews  Satisfaction Sex  \\\n",
       "191567  I was on this drug for 5 years, 100mg for the ...             1       \n",
       "191574  I have partial seizures. It didn't help for a ...             4       \n",
       "191581  I have been having migraines and headaches eve...             1       \n",
       "191588  This is the only medication I have taken for t...             3       \n",
       "191595  I suffered from debilitating Cluster Headaches...             5       \n",
       "\n",
       "                                                    Sides  UsefulCount  \n",
       "191567  Tiredness, drowsiness,  dizziness , loss of co...            5  \n",
       "191574  Tiredness, drowsiness,  dizziness , loss of co...            0  \n",
       "191581  Tiredness, drowsiness,  dizziness , loss of co...            6  \n",
       "191588  Tiredness, drowsiness,  dizziness , loss of co...            0  \n",
       "191595  Tiredness, drowsiness,  dizziness , loss of co...            2  "
      ]
     },
     "execution_count": 8,
     "metadata": {},
     "output_type": "execute_result"
    }
   ],
   "source": [
    "drug_topamax= data.loc[(data['Drug'] =='topamax')]\n",
    "drug_topamax.head(5)"
   ]
  },
  {
   "cell_type": "code",
   "execution_count": 9,
   "id": "d360fd35-2cd2-4e0c-84a8-43663199cd09",
   "metadata": {},
   "outputs": [],
   "source": [
    "data_new = drug_topamax.copy()"
   ]
  },
  {
   "cell_type": "code",
   "execution_count": 10,
   "id": "f09cd2ca-8b10-440c-9bf8-adb09e3ff45e",
   "metadata": {},
   "outputs": [],
   "source": [
    "# Handling instances with whitespaces\n",
    "for i in data_new:\n",
    "    data_new[i]=np.where(data_new[i]==\" \",np.NAN,data_new[i])"
   ]
  },
  {
   "cell_type": "code",
   "execution_count": 11,
   "id": "e0b76fef-a86e-47f0-a89c-5dc63f63a70a",
   "metadata": {},
   "outputs": [
    {
     "data": {
      "text/plain": [
       "Name               0\n",
       "Race               0\n",
       "Age               75\n",
       "Condition          0\n",
       "Date               0\n",
       "Drug               0\n",
       "DrugId             0\n",
       "EaseofUse          0\n",
       "Effectiveness      0\n",
       "Reviews          200\n",
       "Satisfaction       0\n",
       "Sex              103\n",
       "Sides              0\n",
       "UsefulCount        0\n",
       "dtype: int64"
      ]
     },
     "execution_count": 11,
     "metadata": {},
     "output_type": "execute_result"
    }
   ],
   "source": [
    "#checking missing values\n",
    "data_new.isnull().sum()"
   ]
  },
  {
   "cell_type": "code",
   "execution_count": 12,
   "id": "327458b1-507a-4f9b-84cf-64999332f582",
   "metadata": {},
   "outputs": [],
   "source": [
    "# Removing rows with null data\n",
    "data_new=data_new.dropna(axis=0)"
   ]
  },
  {
   "cell_type": "code",
   "execution_count": 13,
   "id": "03b28e53-7921-47e5-912b-23abc41361af",
   "metadata": {},
   "outputs": [
    {
     "data": {
      "text/plain": [
       "Name             0\n",
       "Race             0\n",
       "Age              0\n",
       "Condition        0\n",
       "Date             0\n",
       "Drug             0\n",
       "DrugId           0\n",
       "EaseofUse        0\n",
       "Effectiveness    0\n",
       "Reviews          0\n",
       "Satisfaction     0\n",
       "Sex              0\n",
       "Sides            0\n",
       "UsefulCount      0\n",
       "dtype: int64"
      ]
     },
     "execution_count": 13,
     "metadata": {},
     "output_type": "execute_result"
    }
   ],
   "source": [
    "data_new.isnull().sum()"
   ]
  },
  {
   "cell_type": "code",
   "execution_count": 14,
   "id": "a30200da-40e5-4518-8890-99dc89d74614",
   "metadata": {},
   "outputs": [],
   "source": [
    "# converting rows having data other than string datatype into string.\n",
    "for i in range(0,len(data_new)-1):\n",
    "    if type(data_new.iloc[i]['Sides']) != str:\n",
    "        data_new.iloc[i]['Sides'] = str(data_new.iloc[i]['Sides'])"
   ]
  },
  {
   "cell_type": "code",
   "execution_count": 15,
   "id": "263383b8-9c42-4f5b-8e09-560ba215af21",
   "metadata": {},
   "outputs": [],
   "source": [
    "# Function to clean text data\n",
    "import re\n",
    "def cleaning_text(i):\n",
    "    i = re.sub(\"[^A-Za-z\" \"]+\",\" \",i).lower()\n",
    "    i = re.sub(\"[0-9\" \"]+\",\" \",i)\n",
    "    i= re.sub(\"[\\W+\"\"]\", \" \",i)        \n",
    "    w = []\n",
    "    for word in i.split(\" \"):\n",
    "        if len(word)>3:\n",
    "            w.append(word)\n",
    "    return (\" \".join(w))"
   ]
  },
  {
   "cell_type": "code",
   "execution_count": 16,
   "id": "f942738e-7184-4277-9068-d9cf8d3fe924",
   "metadata": {},
   "outputs": [
    {
     "data": {
      "text/plain": [
       "191609    tiredness drowsiness dizziness loss coordinati...\n",
       "191623    tiredness drowsiness dizziness loss coordinati...\n",
       "191630    tiredness drowsiness dizziness loss coordinati...\n",
       "191637    tiredness drowsiness dizziness loss coordinati...\n",
       "191644    tiredness drowsiness dizziness loss coordinati...\n",
       "                                ...                        \n",
       "197199    tiredness drowsiness dizziness loss coordinati...\n",
       "197200    tiredness drowsiness dizziness loss coordinati...\n",
       "197201    tiredness drowsiness dizziness loss coordinati...\n",
       "197202    tiredness drowsiness dizziness loss coordinati...\n",
       "197203    tiredness drowsiness dizziness loss coordinati...\n",
       "Name: Sides, Length: 1830, dtype: object"
      ]
     },
     "execution_count": 16,
     "metadata": {},
     "output_type": "execute_result"
    }
   ],
   "source": [
    "# Clean the 'Sides' column\n",
    "data_new.Sides= data_new.Sides.apply(cleaning_text)\n",
    "data_new.Sides"
   ]
  },
  {
   "cell_type": "code",
   "execution_count": 17,
   "id": "8e71aac2-aaf9-42a0-adf3-bbb874a5ed5d",
   "metadata": {},
   "outputs": [
    {
     "name": "stderr",
     "output_type": "stream",
     "text": [
      "[nltk_data] Downloading package stopwords to\n",
      "[nltk_data]     /Users/samvarankohli/nltk_data...\n",
      "[nltk_data]   Package stopwords is already up-to-date!\n"
     ]
    }
   ],
   "source": [
    "# Remove stopwords from the 'Sides' column\n",
    "import nltk\n",
    "nltk.download('stopwords')\n",
    "from nltk.corpus import stopwords\n",
    "\n",
    "stop_words = stopwords.words('english')\n",
    "data_new['Sides'] = data_new['Sides'].apply(lambda x: ' '.join([word for word in x.split() if word not in (stop_words)]))"
   ]
  },
  {
   "cell_type": "code",
   "execution_count": 18,
   "id": "a9fcce83-2a1f-41e9-b12b-c58bc5303b97",
   "metadata": {},
   "outputs": [
    {
     "data": {
      "text/plain": [
       "Age\n",
       "45-54         463\n",
       "35-44         455\n",
       "25-34         423\n",
       "55-64         196\n",
       "19-24         184\n",
       "13-18          51\n",
       "65-74          37\n",
       "7-12            8\n",
       "75 or over      8\n",
       "3-6             3\n",
       "0-2             2\n",
       "Name: count, dtype: int64"
      ]
     },
     "execution_count": 18,
     "metadata": {},
     "output_type": "execute_result"
    }
   ],
   "source": [
    "# Analyzing age distribution and cleaning age data\n",
    "data_new['Age'].value_counts()"
   ]
  },
  {
   "cell_type": "code",
   "execution_count": 19,
   "id": "bb1b21a5-2594-410a-9036-550a34075551",
   "metadata": {},
   "outputs": [],
   "source": [
    "data_new['Age']=data_new['Age'].str.replace('75 or over','75-100')"
   ]
  },
  {
   "cell_type": "code",
   "execution_count": 20,
   "id": "87411dd4-680d-44e8-b884-e672f1443b6a",
   "metadata": {},
   "outputs": [],
   "source": [
    "# Drop rows with invalid satisfaction scores\n",
    "data_new.drop(labels = data_new[data_new['Satisfaction'] == 6].index, axis = 0, inplace = True)"
   ]
  },
  {
   "cell_type": "code",
   "execution_count": 21,
   "id": "5ff12567-0d5a-44bc-beeb-50fccdf478f7",
   "metadata": {},
   "outputs": [],
   "source": [
    "# Recode satisfaction levels to categorical values\n",
    "data1=np.where(data_new['Satisfaction'] == 1.0, \"Nil\", data_new['Satisfaction'])\n",
    "data1=np.where(data_new['Satisfaction'] == 2.0, \"Mild\",data1)\n",
    "data1=np.where(data_new['Satisfaction'] == 3.0, \"Moderate\", data1)\n",
    "data1=np.where(data_new['Satisfaction'] == 4.0, \"Severe\", data1)\n",
    "data1=np.where(data_new['Satisfaction'] == 5.0, \"Extreme\",data1)"
   ]
  },
  {
   "cell_type": "code",
   "execution_count": 22,
   "id": "4edfbe21-e188-4eb6-9f44-af55bc3d1e2f",
   "metadata": {},
   "outputs": [],
   "source": [
    "data_new['SideEffects']=data1"
   ]
  },
  {
   "cell_type": "code",
   "execution_count": 23,
   "id": "07857ced-112d-49f3-ad57-b874b1454ff9",
   "metadata": {},
   "outputs": [
    {
     "data": {
      "text/html": [
       "<div>\n",
       "<style scoped>\n",
       "    .dataframe tbody tr th:only-of-type {\n",
       "        vertical-align: middle;\n",
       "    }\n",
       "\n",
       "    .dataframe tbody tr th {\n",
       "        vertical-align: top;\n",
       "    }\n",
       "\n",
       "    .dataframe thead th {\n",
       "        text-align: right;\n",
       "    }\n",
       "</style>\n",
       "<table border=\"1\" class=\"dataframe\">\n",
       "  <thead>\n",
       "    <tr style=\"text-align: right;\">\n",
       "      <th></th>\n",
       "      <th>Name</th>\n",
       "      <th>Race</th>\n",
       "      <th>Age</th>\n",
       "      <th>Condition</th>\n",
       "      <th>Date</th>\n",
       "      <th>Drug</th>\n",
       "      <th>DrugId</th>\n",
       "      <th>EaseofUse</th>\n",
       "      <th>Effectiveness</th>\n",
       "      <th>Reviews</th>\n",
       "      <th>Satisfaction</th>\n",
       "      <th>Sex</th>\n",
       "      <th>Sides</th>\n",
       "      <th>UsefulCount</th>\n",
       "      <th>SideEffects</th>\n",
       "    </tr>\n",
       "  </thead>\n",
       "  <tbody>\n",
       "    <tr>\n",
       "      <th>191609</th>\n",
       "      <td>Brian Barber</td>\n",
       "      <td>White</td>\n",
       "      <td>7-12</td>\n",
       "      <td>Simple Partial Seizures</td>\n",
       "      <td>2/26/2019</td>\n",
       "      <td>topamax</td>\n",
       "      <td>14494.0</td>\n",
       "      <td>4.0</td>\n",
       "      <td>5.0</td>\n",
       "      <td>I'm now 30 years old, but I was 12 when I was ...</td>\n",
       "      <td>5.0</td>\n",
       "      <td>Male</td>\n",
       "      <td>tiredness drowsiness dizziness loss coordinati...</td>\n",
       "      <td>0.0</td>\n",
       "      <td>Extreme</td>\n",
       "    </tr>\n",
       "    <tr>\n",
       "      <th>191623</th>\n",
       "      <td>Seth Gomez</td>\n",
       "      <td>Asian</td>\n",
       "      <td>25-34</td>\n",
       "      <td>Other</td>\n",
       "      <td>1/1/2019</td>\n",
       "      <td>topamax</td>\n",
       "      <td>14494.0</td>\n",
       "      <td>1.0</td>\n",
       "      <td>1.0</td>\n",
       "      <td>I was put on 50mg a day of topamax for chronic...</td>\n",
       "      <td>1.0</td>\n",
       "      <td>Female</td>\n",
       "      <td>tiredness drowsiness dizziness loss coordinati...</td>\n",
       "      <td>0.0</td>\n",
       "      <td>Nil</td>\n",
       "    </tr>\n",
       "    <tr>\n",
       "      <th>191630</th>\n",
       "      <td>Janet Bell</td>\n",
       "      <td>Asian</td>\n",
       "      <td>45-54</td>\n",
       "      <td>Other</td>\n",
       "      <td>6/22/2014</td>\n",
       "      <td>topamax</td>\n",
       "      <td>14494.0</td>\n",
       "      <td>2.0</td>\n",
       "      <td>2.0</td>\n",
       "      <td>I'm taking Gabapentin for Central Neuropathy!!...</td>\n",
       "      <td>2.0</td>\n",
       "      <td>Female</td>\n",
       "      <td>tiredness drowsiness dizziness loss coordinati...</td>\n",
       "      <td>0.0</td>\n",
       "      <td>Mild</td>\n",
       "    </tr>\n",
       "    <tr>\n",
       "      <th>191637</th>\n",
       "      <td>Cameron Young</td>\n",
       "      <td>White</td>\n",
       "      <td>65-74</td>\n",
       "      <td>Migraine Prevention</td>\n",
       "      <td>6/22/2014</td>\n",
       "      <td>topamax</td>\n",
       "      <td>14494.0</td>\n",
       "      <td>5.0</td>\n",
       "      <td>5.0</td>\n",
       "      <td>I have been taking Topamax for exactly four ye...</td>\n",
       "      <td>5.0</td>\n",
       "      <td>Female</td>\n",
       "      <td>tiredness drowsiness dizziness loss coordinati...</td>\n",
       "      <td>9.0</td>\n",
       "      <td>Extreme</td>\n",
       "    </tr>\n",
       "    <tr>\n",
       "      <th>191644</th>\n",
       "      <td>Michael Hickman</td>\n",
       "      <td>Asian</td>\n",
       "      <td>55-64</td>\n",
       "      <td>Other</td>\n",
       "      <td>12/27/2018</td>\n",
       "      <td>topamax</td>\n",
       "      <td>14494.0</td>\n",
       "      <td>5.0</td>\n",
       "      <td>5.0</td>\n",
       "      <td>I suffer with spinal degeneration that I am su...</td>\n",
       "      <td>5.0</td>\n",
       "      <td>Female</td>\n",
       "      <td>tiredness drowsiness dizziness loss coordinati...</td>\n",
       "      <td>0.0</td>\n",
       "      <td>Extreme</td>\n",
       "    </tr>\n",
       "  </tbody>\n",
       "</table>\n",
       "</div>"
      ],
      "text/plain": [
       "                   Name   Race    Age                Condition        Date  \\\n",
       "191609     Brian Barber  White   7-12  Simple Partial Seizures   2/26/2019   \n",
       "191623       Seth Gomez  Asian  25-34                    Other    1/1/2019   \n",
       "191630       Janet Bell  Asian  45-54                    Other   6/22/2014   \n",
       "191637    Cameron Young  White  65-74      Migraine Prevention   6/22/2014   \n",
       "191644  Michael Hickman  Asian  55-64                    Other  12/27/2018   \n",
       "\n",
       "           Drug   DrugId  EaseofUse  Effectiveness  \\\n",
       "191609  topamax  14494.0        4.0            5.0   \n",
       "191623  topamax  14494.0        1.0            1.0   \n",
       "191630  topamax  14494.0        2.0            2.0   \n",
       "191637  topamax  14494.0        5.0            5.0   \n",
       "191644  topamax  14494.0        5.0            5.0   \n",
       "\n",
       "                                                  Reviews  Satisfaction  \\\n",
       "191609  I'm now 30 years old, but I was 12 when I was ...           5.0   \n",
       "191623  I was put on 50mg a day of topamax for chronic...           1.0   \n",
       "191630  I'm taking Gabapentin for Central Neuropathy!!...           2.0   \n",
       "191637  I have been taking Topamax for exactly four ye...           5.0   \n",
       "191644  I suffer with spinal degeneration that I am su...           5.0   \n",
       "\n",
       "           Sex                                              Sides  \\\n",
       "191609    Male  tiredness drowsiness dizziness loss coordinati...   \n",
       "191623  Female  tiredness drowsiness dizziness loss coordinati...   \n",
       "191630  Female  tiredness drowsiness dizziness loss coordinati...   \n",
       "191637  Female  tiredness drowsiness dizziness loss coordinati...   \n",
       "191644  Female  tiredness drowsiness dizziness loss coordinati...   \n",
       "\n",
       "        UsefulCount SideEffects  \n",
       "191609          0.0     Extreme  \n",
       "191623          0.0         Nil  \n",
       "191630          0.0        Mild  \n",
       "191637          9.0     Extreme  \n",
       "191644          0.0     Extreme  "
      ]
     },
     "execution_count": 23,
     "metadata": {},
     "output_type": "execute_result"
    }
   ],
   "source": [
    "data_new.head()"
   ]
  },
  {
   "cell_type": "code",
   "execution_count": 24,
   "id": "ab4c6657-b6d1-442f-a695-792f380ec1df",
   "metadata": {},
   "outputs": [
    {
     "data": {
      "text/html": [
       "<div>\n",
       "<style scoped>\n",
       "    .dataframe tbody tr th:only-of-type {\n",
       "        vertical-align: middle;\n",
       "    }\n",
       "\n",
       "    .dataframe tbody tr th {\n",
       "        vertical-align: top;\n",
       "    }\n",
       "\n",
       "    .dataframe thead th {\n",
       "        text-align: right;\n",
       "    }\n",
       "</style>\n",
       "<table border=\"1\" class=\"dataframe\">\n",
       "  <thead>\n",
       "    <tr style=\"text-align: right;\">\n",
       "      <th></th>\n",
       "      <th>Race</th>\n",
       "      <th>Age</th>\n",
       "      <th>Condition</th>\n",
       "      <th>DrugId</th>\n",
       "      <th>EaseofUse</th>\n",
       "      <th>Effectiveness</th>\n",
       "      <th>Satisfaction</th>\n",
       "      <th>Sex</th>\n",
       "      <th>SideEffects</th>\n",
       "    </tr>\n",
       "  </thead>\n",
       "  <tbody>\n",
       "    <tr>\n",
       "      <th>0</th>\n",
       "      <td>White</td>\n",
       "      <td>7-12</td>\n",
       "      <td>Simple Partial Seizures</td>\n",
       "      <td>14494.0</td>\n",
       "      <td>4.0</td>\n",
       "      <td>5.0</td>\n",
       "      <td>5.0</td>\n",
       "      <td>Male</td>\n",
       "      <td>Extreme</td>\n",
       "    </tr>\n",
       "    <tr>\n",
       "      <th>1</th>\n",
       "      <td>Asian</td>\n",
       "      <td>25-34</td>\n",
       "      <td>Other</td>\n",
       "      <td>14494.0</td>\n",
       "      <td>1.0</td>\n",
       "      <td>1.0</td>\n",
       "      <td>1.0</td>\n",
       "      <td>Female</td>\n",
       "      <td>Nil</td>\n",
       "    </tr>\n",
       "    <tr>\n",
       "      <th>2</th>\n",
       "      <td>Asian</td>\n",
       "      <td>45-54</td>\n",
       "      <td>Other</td>\n",
       "      <td>14494.0</td>\n",
       "      <td>2.0</td>\n",
       "      <td>2.0</td>\n",
       "      <td>2.0</td>\n",
       "      <td>Female</td>\n",
       "      <td>Mild</td>\n",
       "    </tr>\n",
       "    <tr>\n",
       "      <th>3</th>\n",
       "      <td>White</td>\n",
       "      <td>65-74</td>\n",
       "      <td>Migraine Prevention</td>\n",
       "      <td>14494.0</td>\n",
       "      <td>5.0</td>\n",
       "      <td>5.0</td>\n",
       "      <td>5.0</td>\n",
       "      <td>Female</td>\n",
       "      <td>Extreme</td>\n",
       "    </tr>\n",
       "    <tr>\n",
       "      <th>4</th>\n",
       "      <td>Asian</td>\n",
       "      <td>55-64</td>\n",
       "      <td>Other</td>\n",
       "      <td>14494.0</td>\n",
       "      <td>5.0</td>\n",
       "      <td>5.0</td>\n",
       "      <td>5.0</td>\n",
       "      <td>Female</td>\n",
       "      <td>Extreme</td>\n",
       "    </tr>\n",
       "  </tbody>\n",
       "</table>\n",
       "</div>"
      ],
      "text/plain": [
       "    Race    Age                Condition   DrugId  EaseofUse  Effectiveness  \\\n",
       "0  White   7-12  Simple Partial Seizures  14494.0        4.0            5.0   \n",
       "1  Asian  25-34                    Other  14494.0        1.0            1.0   \n",
       "2  Asian  45-54                    Other  14494.0        2.0            2.0   \n",
       "3  White  65-74      Migraine Prevention  14494.0        5.0            5.0   \n",
       "4  Asian  55-64                    Other  14494.0        5.0            5.0   \n",
       "\n",
       "   Satisfaction     Sex SideEffects  \n",
       "0           5.0    Male     Extreme  \n",
       "1           1.0  Female         Nil  \n",
       "2           2.0  Female        Mild  \n",
       "3           5.0  Female     Extreme  \n",
       "4           5.0  Female     Extreme  "
      ]
     },
     "execution_count": 24,
     "metadata": {},
     "output_type": "execute_result"
    }
   ],
   "source": [
    "# Drop unnecessary columns\n",
    "data_new=data_new.drop(columns = ['Name','Drug','Date','Sides','Reviews','UsefulCount'],axis=1)\n",
    "data_new=data_new.reset_index(drop=True)\n",
    "data_new.head()"
   ]
  },
  {
   "cell_type": "code",
   "execution_count": 25,
   "id": "9afcf0fc-878f-4e8f-9029-a545c0edddd4",
   "metadata": {},
   "outputs": [
    {
     "name": "stdout",
     "output_type": "stream",
     "text": [
      "<class 'pandas.core.frame.DataFrame'>\n",
      "RangeIndex: 1829 entries, 0 to 1828\n",
      "Data columns (total 9 columns):\n",
      " #   Column         Non-Null Count  Dtype   \n",
      "---  ------         --------------  -----   \n",
      " 0   Race           1829 non-null   category\n",
      " 1   Age            1829 non-null   category\n",
      " 2   Condition      1829 non-null   category\n",
      " 3   DrugId         1829 non-null   float64 \n",
      " 4   EaseofUse      1829 non-null   float64 \n",
      " 5   Effectiveness  1829 non-null   float64 \n",
      " 6   Satisfaction   1829 non-null   float64 \n",
      " 7   Sex            1829 non-null   category\n",
      " 8   SideEffects    1829 non-null   category\n",
      "dtypes: category(5), float64(4)\n",
      "memory usage: 67.5 KB\n"
     ]
    }
   ],
   "source": [
    "# Convert categorical columns to category type\n",
    "for cl in data_new.select_dtypes(include = ['object']):\n",
    "    data_new[cl]=data_new[cl].astype('category')\n",
    "data_new.info()"
   ]
  },
  {
   "cell_type": "markdown",
   "id": "d2b1a2db-23b4-40bf-922b-d488d3bf380d",
   "metadata": {},
   "source": [
    "## Data Transformation\n",
    "7. Encoding Categorical Data: We convert categorical variables into numerical labels using LabelEncoder."
   ]
  },
  {
   "cell_type": "code",
   "execution_count": 26,
   "id": "719476c5-7ea8-4fa1-a4af-54f32c5df2ed",
   "metadata": {},
   "outputs": [],
   "source": [
    "from sklearn.preprocessing import LabelEncoder\n",
    "\n",
    "# Encode categorical variables\n",
    "label=LabelEncoder()"
   ]
  },
  {
   "cell_type": "code",
   "execution_count": 27,
   "id": "8065d929-9bab-4cb1-8f74-931923f58200",
   "metadata": {},
   "outputs": [],
   "source": [
    "for col in ['Race','Age','Sex','Condition','SideEffects']:   \n",
    "    data_new[col]=label.fit_transform((data_new[col]).astype(str))\n",
    "    \n",
    "data_label=data_new"
   ]
  },
  {
   "cell_type": "code",
   "execution_count": 28,
   "id": "63528e8b-72b7-4321-b8fc-d49194897929",
   "metadata": {},
   "outputs": [
    {
     "data": {
      "text/html": [
       "<div>\n",
       "<style scoped>\n",
       "    .dataframe tbody tr th:only-of-type {\n",
       "        vertical-align: middle;\n",
       "    }\n",
       "\n",
       "    .dataframe tbody tr th {\n",
       "        vertical-align: top;\n",
       "    }\n",
       "\n",
       "    .dataframe thead th {\n",
       "        text-align: right;\n",
       "    }\n",
       "</style>\n",
       "<table border=\"1\" class=\"dataframe\">\n",
       "  <thead>\n",
       "    <tr style=\"text-align: right;\">\n",
       "      <th></th>\n",
       "      <th>Race</th>\n",
       "      <th>Age</th>\n",
       "      <th>Condition</th>\n",
       "      <th>DrugId</th>\n",
       "      <th>EaseofUse</th>\n",
       "      <th>Effectiveness</th>\n",
       "      <th>Satisfaction</th>\n",
       "      <th>Sex</th>\n",
       "      <th>SideEffects</th>\n",
       "    </tr>\n",
       "  </thead>\n",
       "  <tbody>\n",
       "    <tr>\n",
       "      <th>0</th>\n",
       "      <td>3</td>\n",
       "      <td>9</td>\n",
       "      <td>10</td>\n",
       "      <td>14494.0</td>\n",
       "      <td>4.0</td>\n",
       "      <td>5.0</td>\n",
       "      <td>5.0</td>\n",
       "      <td>1</td>\n",
       "      <td>0</td>\n",
       "    </tr>\n",
       "    <tr>\n",
       "      <th>1</th>\n",
       "      <td>0</td>\n",
       "      <td>3</td>\n",
       "      <td>9</td>\n",
       "      <td>14494.0</td>\n",
       "      <td>1.0</td>\n",
       "      <td>1.0</td>\n",
       "      <td>1.0</td>\n",
       "      <td>0</td>\n",
       "      <td>3</td>\n",
       "    </tr>\n",
       "    <tr>\n",
       "      <th>2</th>\n",
       "      <td>0</td>\n",
       "      <td>6</td>\n",
       "      <td>9</td>\n",
       "      <td>14494.0</td>\n",
       "      <td>2.0</td>\n",
       "      <td>2.0</td>\n",
       "      <td>2.0</td>\n",
       "      <td>0</td>\n",
       "      <td>1</td>\n",
       "    </tr>\n",
       "    <tr>\n",
       "      <th>3</th>\n",
       "      <td>3</td>\n",
       "      <td>8</td>\n",
       "      <td>8</td>\n",
       "      <td>14494.0</td>\n",
       "      <td>5.0</td>\n",
       "      <td>5.0</td>\n",
       "      <td>5.0</td>\n",
       "      <td>0</td>\n",
       "      <td>0</td>\n",
       "    </tr>\n",
       "    <tr>\n",
       "      <th>4</th>\n",
       "      <td>0</td>\n",
       "      <td>7</td>\n",
       "      <td>9</td>\n",
       "      <td>14494.0</td>\n",
       "      <td>5.0</td>\n",
       "      <td>5.0</td>\n",
       "      <td>5.0</td>\n",
       "      <td>0</td>\n",
       "      <td>0</td>\n",
       "    </tr>\n",
       "  </tbody>\n",
       "</table>\n",
       "</div>"
      ],
      "text/plain": [
       "   Race  Age  Condition   DrugId  EaseofUse  Effectiveness  Satisfaction  Sex  \\\n",
       "0     3    9         10  14494.0        4.0            5.0           5.0    1   \n",
       "1     0    3          9  14494.0        1.0            1.0           1.0    0   \n",
       "2     0    6          9  14494.0        2.0            2.0           2.0    0   \n",
       "3     3    8          8  14494.0        5.0            5.0           5.0    0   \n",
       "4     0    7          9  14494.0        5.0            5.0           5.0    0   \n",
       "\n",
       "   SideEffects  \n",
       "0            0  \n",
       "1            3  \n",
       "2            1  \n",
       "3            0  \n",
       "4            0  "
      ]
     },
     "execution_count": 28,
     "metadata": {},
     "output_type": "execute_result"
    }
   ],
   "source": [
    "data_new.head()"
   ]
  },
  {
   "cell_type": "markdown",
   "id": "94295f6b-d7c5-4428-9bd2-7b2b7d2539ea",
   "metadata": {},
   "source": [
    "## Data Visualization\n",
    "8. Visualizing Distributions: We create pie charts and count plots to visualize the distribution of side effects across different ages, races, and sexes."
   ]
  },
  {
   "cell_type": "code",
   "execution_count": 29,
   "id": "b140cc8c-b3bb-4bca-9fcb-e8e75730b8d6",
   "metadata": {},
   "outputs": [
    {
     "data": {
      "image/png": "[encoded data removed]",
      "text/plain": [
       "<Figure size 600x600 with 1 Axes>"
      ]
     },
     "metadata": {},
     "output_type": "display_data"
    }
   ],
   "source": [
    "# Visualize the distribution of side effects\n",
    "plt.figure(figsize=(6,6))\n",
    "data_new['SideEffects'].value_counts().plot.pie(autopct='%1.1f%%',shadow=True)\n",
    "plt.show()"
   ]
  },
  {
   "cell_type": "code",
   "execution_count": 30,
   "id": "ecd25741-d1d6-41bc-bd8e-303123183867",
   "metadata": {},
   "outputs": [
    {
     "data": {
      "text/plain": [
       "<Axes: xlabel='Age', ylabel='count'>"
      ]
     },
     "execution_count": 30,
     "metadata": {},
     "output_type": "execute_result"
    },
    {
     "data": {
      "image/png": "[encoded data removed]",
      "text/plain": [
       "<Figure size 1000x600 with 1 Axes>"
      ]
     },
     "metadata": {},
     "output_type": "display_data"
    }
   ],
   "source": [
    "# Convert 'SideEffects' and 'Age' columns back to string for plotting\n",
    "data_new['SideEffects'] = data_new['SideEffects'].astype(str)\n",
    "data_new['Age'] = data_new['Age'].astype(str)\n",
    "\n",
    "# Plot the distribution of side effects by age\n",
    "plt.figure(figsize=(10, 6))\n",
    "sns.countplot(x='Age',hue='SideEffects',data=data_new)"
   ]
  },
  {
   "cell_type": "code",
   "execution_count": 31,
   "id": "99708b91-47c7-414c-b0ef-7a083cde6d45",
   "metadata": {},
   "outputs": [
    {
     "data": {
      "text/plain": [
       "<Axes: xlabel='Race', ylabel='count'>"
      ]
     },
     "execution_count": 31,
     "metadata": {},
     "output_type": "execute_result"
    },
    {
     "data": {
      "image/png": "[encoded data removed]",
      "text/plain": [
       "<Figure size 1000x600 with 1 Axes>"
      ]
     },
     "metadata": {},
     "output_type": "display_data"
    }
   ],
   "source": [
    "# Convert 'Race' column to string for plotting\n",
    "data_new['Race'] = data_new['Race'].astype(str)\n",
    "\n",
    "# Plot the distribution of side effects by race\n",
    "plt.figure(figsize=(10, 6))\n",
    "sns.countplot(x='Race',hue='SideEffects',data=data_new)"
   ]
  },
  {
   "cell_type": "code",
   "execution_count": 32,
   "id": "584c66db-a1be-4abc-a8cb-4c70127a35c6",
   "metadata": {},
   "outputs": [
    {
     "data": {
      "image/png": "[encoded data removed]",
      "text/plain": [
       "<Figure size 1000x600 with 1 Axes>"
      ]
     },
     "metadata": {},
     "output_type": "display_data"
    }
   ],
   "source": [
    "# Convert 'Sex' column to string for plotting\n",
    "data_new['Sex'] = data_new['Sex'].astype(str)\n",
    "\n",
    "# Plot the distribution of side effects by sex\n",
    "plt.figure(figsize=(10, 6))\n",
    "sns.countplot(x='Sex', hue='SideEffects', data=data_new)\n",
    "plt.show()"
   ]
  },
  {
   "cell_type": "code",
   "execution_count": 33,
   "id": "c55838fd-a563-4be9-b3d0-d2a4cc75fcac",
   "metadata": {},
   "outputs": [],
   "source": [
    "# Prepare data for model training\n",
    "y = data_new['SideEffects']\n",
    "X = data_new.drop(['SideEffects'],axis=1)"
   ]
  },
  {
   "cell_type": "code",
   "execution_count": 34,
   "id": "2505651d-9994-4f5b-ba26-92690b0cd72b",
   "metadata": {},
   "outputs": [],
   "source": [
    "from sklearn.model_selection import train_test_split\n",
    "\n",
    "# Split data into training and testing sets\n",
    "X_train,X_test,y_train,y_test = train_test_split(X,y, random_state=42,test_size=0.2)"
   ]
  },
  {
   "cell_type": "markdown",
   "id": "ffdff2ce-7089-4227-b90a-6d9357ffd3fa",
   "metadata": {},
   "source": [
    "# 1. logistic regression model"
   ]
  },
  {
   "cell_type": "code",
   "execution_count": 35,
   "id": "2a301eaa-098d-4fb0-b092-25eb2968ef3d",
   "metadata": {},
   "outputs": [],
   "source": [
    "from sklearn.linear_model import LogisticRegression\n",
    "from sklearn.metrics import confusion_matrix, accuracy_score, precision_score,recall_score,f1_score,classification_report\n",
    "\n",
    "# Train a logistic regression model\n",
    "logit_model = LogisticRegression(multi_class='multinomial', max_iter=2000)\n",
    "logit_model.fit(X_train, y_train)\n",
    "\n",
    "# Predict the test set\n",
    "y_pred = logit_model.predict(X_test)"
   ]
  },
  {
   "cell_type": "code",
   "execution_count": 37,
   "id": "49cd9ba2-2033-4a6a-97c6-aac2f07216ff",
   "metadata": {},
   "outputs": [
    {
     "name": "stdout",
     "output_type": "stream",
     "text": [
      "              precision    recall  f1-score   support\n",
      "\n",
      "           0       1.00      0.99      1.00       120\n",
      "           1       1.00      0.93      0.97        30\n",
      "           2       0.96      1.00      0.98        49\n",
      "           3       1.00      1.00      1.00        99\n",
      "           4       0.99      1.00      0.99        68\n",
      "\n",
      "    accuracy                           0.99       366\n",
      "   macro avg       0.99      0.98      0.99       366\n",
      "weighted avg       0.99      0.99      0.99       366\n",
      "\n"
     ]
    }
   ],
   "source": [
    "# Evaluate the model\n",
    "print(classification_report(y_test, y_pred))"
   ]
  },
  {
   "cell_type": "markdown",
   "id": "13179f56-421d-4c0c-9229-17fa4b084f1d",
   "metadata": {},
   "source": [
    "# 2. KNN Model"
   ]
  },
  {
   "cell_type": "code",
   "execution_count": 38,
   "id": "a3f3bdca-beac-437f-b11a-b0a28a1cc1a8",
   "metadata": {},
   "outputs": [],
   "source": [
    "from sklearn.neighbors import KNeighborsClassifier"
   ]
  },
  {
   "cell_type": "code",
   "execution_count": 39,
   "id": "aad02dd5-84f9-462e-a4f6-939f5eaac104",
   "metadata": {},
   "outputs": [],
   "source": [
    "acc_values = []\n",
    "neighbors = np.arange(3,15)\n",
    "\n",
    "# creating a loop to create KNN model for each K value\n",
    "\n",
    "for k in neighbors:\n",
    "    \n",
    "#taking the instance of KNN to a variable.the variable name is classifier.\n",
    "    classifier = KNeighborsClassifier(n_neighbors= k, metric = 'minkowski')    \n",
    "    classifier = KNeighborsClassifier(n_neighbors= k)\n",
    "    classifier.fit(X_train,y_train)\n",
    "    \n",
    "    y_pred = classifier.predict(X_test)\n",
    "    acc = accuracy_score(y_test, y_pred)\n",
    "    acc_values.append(acc)"
   ]
  },
  {
   "cell_type": "code",
   "execution_count": 40,
   "id": "7c50c4ec-66e5-409b-9000-e2c4dfac5515",
   "metadata": {},
   "outputs": [
    {
     "data": {
      "text/plain": [
       "Text(0, 0.5, 'accuracy')"
      ]
     },
     "execution_count": 40,
     "metadata": {},
     "output_type": "execute_result"
    },
    {
     "data": {
      "image/png": "[encoded data removed]",
      "text/plain": [
       "<Figure size 640x480 with 1 Axes>"
      ]
     },
     "metadata": {},
     "output_type": "display_data"
    }
   ],
   "source": [
    "plt.plot(neighbors,acc_values,'o-')\n",
    "plt.xlabel('k value')\n",
    "plt.ylabel('accuracy')"
   ]
  },
  {
   "cell_type": "code",
   "execution_count": 41,
   "id": "986b5543-c266-4dfa-802a-693ea3845b0e",
   "metadata": {},
   "outputs": [],
   "source": [
    "classifier = KNeighborsClassifier(n_neighbors= 7, metric = 'minkowski')\n",
    "classifier.fit(X_train,y_train)\n",
    "y_pred = classifier.predict(X_test)"
   ]
  },
  {
   "cell_type": "code",
   "execution_count": 42,
   "id": "6029fc4b-4978-4e2c-84f7-d88e9d23c58c",
   "metadata": {},
   "outputs": [
    {
     "name": "stdout",
     "output_type": "stream",
     "text": [
      "              precision    recall  f1-score   support\n",
      "\n",
      "           0       0.92      0.99      0.95       120\n",
      "           1       0.89      0.53      0.67        30\n",
      "           2       0.81      0.90      0.85        49\n",
      "           3       0.94      0.99      0.97        99\n",
      "           4       0.97      0.85      0.91        68\n",
      "\n",
      "    accuracy                           0.92       366\n",
      "   macro avg       0.91      0.85      0.87       366\n",
      "weighted avg       0.92      0.92      0.91       366\n",
      "\n"
     ]
    }
   ],
   "source": [
    "print(classification_report(y_test, y_pred))"
   ]
  },
  {
   "cell_type": "markdown",
   "id": "972f6876-45ec-4c4b-99a3-3e0f26eb3411",
   "metadata": {},
   "source": [
    "# 3. Random Forest"
   ]
  },
  {
   "cell_type": "code",
   "execution_count": 43,
   "id": "1715deed-35ca-4861-98df-b9a509075bf6",
   "metadata": {},
   "outputs": [],
   "source": [
    "from sklearn.ensemble import RandomForestClassifier\n",
    "rf=RandomForestClassifier()\n",
    "\n",
    "# training the model\n",
    "rf.fit(X_train,y_train)\n",
    "\n",
    "# Predict the test set\n",
    "y_pred=rf.predict(X_test)"
   ]
  },
  {
   "cell_type": "code",
   "execution_count": 44,
   "id": "73df31bd-df40-4f6e-9f24-165fd5ad5a00",
   "metadata": {},
   "outputs": [
    {
     "name": "stdout",
     "output_type": "stream",
     "text": [
      "              precision    recall  f1-score   support\n",
      "\n",
      "           0       1.00      1.00      1.00       120\n",
      "           1       1.00      0.93      0.97        30\n",
      "           2       0.96      1.00      0.98        49\n",
      "           3       1.00      1.00      1.00        99\n",
      "           4       1.00      1.00      1.00        68\n",
      "\n",
      "    accuracy                           0.99       366\n",
      "   macro avg       0.99      0.99      0.99       366\n",
      "weighted avg       0.99      0.99      0.99       366\n",
      "\n"
     ]
    }
   ],
   "source": [
    "print(classification_report(y_test, y_pred))"
   ]
  },
  {
   "cell_type": "markdown",
   "id": "d2e7777e-1ec9-476f-8a3b-539c110d5ebd",
   "metadata": {},
   "source": [
    "# Inference\n",
    "## Accuracies of classification models:\n",
    "\n",
    "1. Logistic Regression - 99%\n",
    "\n",
    "2. KNN Model - 92%\n",
    "\n",
    "3. Random Forest - 99%"
   ]
  },
  {
   "cell_type": "markdown",
   "id": "7eee1860-3d03-40de-8768-2fd551a10e4d",
   "metadata": {},
   "source": [
    "# Conclusion\n",
    "1. Performed various pre-processing steps and obtained a clean dataset for exploratory data analysis and modelling. Various visualisations were done on the dataset and selected a particular drug Topamax. Maximum users consume this drug for migraine prevention.\n",
    "\n",
    "2. The best classification model was obtained by Linear Support Vector Machine. On performance evaluation, maximum accuracy of 58.06% has been achieved.\n",
    "\n",
    "3. By race, Whites topped in the usage of this drug with a higher female ratio. Domination of female users were consistent across age groups above 12 and below 75 years. Also, people in the age groups 35 to 44, 45 to 54 and 25 to 34 accounted for maximum usage of Topamax. Most users found Topamax as highly effective, especially females. Most rated it highly for its ease of use as well. Side effects of the drug proved race neutral. Genderwise, side effects proved extreme in females."
   ]
  },
  {
   "cell_type": "code",
   "execution_count": null,
   "id": "defed4eb-b57d-41ae-8200-a33b721cefa5",
   "metadata": {},
   "outputs": [],
   "source": []
  }
 ],
 "metadata": {
  "kernelspec": {
   "display_name": "Python 3 (ipykernel)",
   "language": "python",
   "name": "python3"
  },
  "language_info": {
   "codemirror_mode": {
    "name": "ipython",
    "version": 3
   },
   "file_extension": ".py",
   "mimetype": "text/x-python",
   "name": "python",
   "nbconvert_exporter": "python",
   "pygments_lexer": "ipython3",
   "version": "3.11.7"
  }
 },
 "nbformat": 4,
 "nbformat_minor": 5
}
